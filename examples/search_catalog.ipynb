{
 "cells": [
  {
   "cell_type": "markdown",
   "id": "3396c44f",
   "metadata": {},
   "source": [
    "# Searching the Catalog\n",
    "\n",
    "This notebook serves as an example of how to use the data catalog ([catalog_blue.csv](https://github.com/NOAA-GFDL/spear-flp/blob/main/catalog_blue.csv) and [catalog_blue.json](https://github.com/NOAA-GFDL/spear-flp/blob/main/catalog_blue.json)) to find and transfer files from Globus. We will walk through getting a list of where each file you're interested in is stored on the Globus endpoint.\n",
    "\n",
    "The SPEAR-MED data is available on Globus [at this link](https://app.globus.org/file-manager?origin_id=20987ccd-15d0-4719-a60c-86ab17d6a393&origin_path=%2F).\n",
    "\n",
    "The packages [intake-esm](https://github.com/intake/intake-esm) and pandas are required to run this notebook."
   ]
  },
  {
   "cell_type": "code",
   "execution_count": 1,
   "id": "039f036e",
   "metadata": {},
   "outputs": [],
   "source": [
    "import intake\n",
    "import intake_esm\n",
    "import pandas as pd\n",
    "cat_url = \"https://raw.githubusercontent.com/NOAA-GFDL/spear-flp/refs/heads/main/catalog_blue.json\""
   ]
  },
  {
   "cell_type": "markdown",
   "id": "f01c9c2a",
   "metadata": {},
   "source": [
    "The first step is to load the catalog:"
   ]
  },
  {
   "cell_type": "code",
   "execution_count": 2,
   "id": "c47a32b4",
   "metadata": {},
   "outputs": [],
   "source": [
    "cat = intake.open_esm_datastore(cat_url)"
   ]
  },
  {
   "cell_type": "markdown",
   "id": "b6e57cf5",
   "metadata": {},
   "source": [
    "Then we can run a search. Each argument is `<column> = \"<value>\"` or `<column> = [\"<value1>\", \"<value2>\"]`"
   ]
  },
  {
   "cell_type": "code",
   "execution_count": 3,
   "id": "ca73eff8",
   "metadata": {},
   "outputs": [
    {
     "data": {
      "text/html": [
       "<p><strong>esm_catalog_ESM4 catalog with 30 dataset(s) from 60 asset(s)</strong>:</p> <div>\n",
       "<style scoped>\n",
       "    .dataframe tbody tr th:only-of-type {\n",
       "        vertical-align: middle;\n",
       "    }\n",
       "\n",
       "    .dataframe tbody tr th {\n",
       "        vertical-align: top;\n",
       "    }\n",
       "\n",
       "    .dataframe thead th {\n",
       "        text-align: right;\n",
       "    }\n",
       "</style>\n",
       "<table border=\"1\" class=\"dataframe\">\n",
       "  <thead>\n",
       "    <tr style=\"text-align: right;\">\n",
       "      <th></th>\n",
       "      <th>unique</th>\n",
       "    </tr>\n",
       "  </thead>\n",
       "  <tbody>\n",
       "    <tr>\n",
       "      <th>activity_id</th>\n",
       "      <td>0</td>\n",
       "    </tr>\n",
       "    <tr>\n",
       "      <th>institution_id</th>\n",
       "      <td>0</td>\n",
       "    </tr>\n",
       "    <tr>\n",
       "      <th>source_id</th>\n",
       "      <td>0</td>\n",
       "    </tr>\n",
       "    <tr>\n",
       "      <th>experiment_id</th>\n",
       "      <td>1</td>\n",
       "    </tr>\n",
       "    <tr>\n",
       "      <th>frequency</th>\n",
       "      <td>1</td>\n",
       "    </tr>\n",
       "    <tr>\n",
       "      <th>realm</th>\n",
       "      <td>1</td>\n",
       "    </tr>\n",
       "    <tr>\n",
       "      <th>table_id</th>\n",
       "      <td>0</td>\n",
       "    </tr>\n",
       "    <tr>\n",
       "      <th>member_id</th>\n",
       "      <td>30</td>\n",
       "    </tr>\n",
       "    <tr>\n",
       "      <th>grid_label</th>\n",
       "      <td>0</td>\n",
       "    </tr>\n",
       "    <tr>\n",
       "      <th>variable_id</th>\n",
       "      <td>1</td>\n",
       "    </tr>\n",
       "    <tr>\n",
       "      <th>time_range</th>\n",
       "      <td>2</td>\n",
       "    </tr>\n",
       "    <tr>\n",
       "      <th>chunk_freq</th>\n",
       "      <td>1</td>\n",
       "    </tr>\n",
       "    <tr>\n",
       "      <th>platform</th>\n",
       "      <td>0</td>\n",
       "    </tr>\n",
       "    <tr>\n",
       "      <th>dimensions</th>\n",
       "      <td>0</td>\n",
       "    </tr>\n",
       "    <tr>\n",
       "      <th>cell_methods</th>\n",
       "      <td>1</td>\n",
       "    </tr>\n",
       "    <tr>\n",
       "      <th>standard_name</th>\n",
       "      <td>1</td>\n",
       "    </tr>\n",
       "    <tr>\n",
       "      <th>pass_qc</th>\n",
       "      <td>1</td>\n",
       "    </tr>\n",
       "    <tr>\n",
       "      <th>who_qc</th>\n",
       "      <td>0</td>\n",
       "    </tr>\n",
       "    <tr>\n",
       "      <th>path</th>\n",
       "      <td>60</td>\n",
       "    </tr>\n",
       "    <tr>\n",
       "      <th>derived_variable_id</th>\n",
       "      <td>0</td>\n",
       "    </tr>\n",
       "  </tbody>\n",
       "</table>\n",
       "</div>"
      ],
      "text/plain": [
       "<IPython.core.display.HTML object>"
      ]
     },
     "metadata": {},
     "output_type": "display_data"
    }
   ],
   "source": [
    "subcat = cat.search(variable_id=\"WVP\", experiment_id=\"SPEAR_c192_o1_Hist_AllForc_IC1921_K50\",\n",
    "        time_range=[\"192101-193012\", \"193101-194012\"])\n",
    "subcat"
   ]
  },
  {
   "cell_type": "markdown",
   "id": "6b00c3d7",
   "metadata": {},
   "source": [
    "A full list of column names can be obtained,"
   ]
  },
  {
   "cell_type": "code",
   "execution_count": 4,
   "id": "3a6dfa72",
   "metadata": {},
   "outputs": [
    {
     "data": {
      "text/plain": [
       "Index(['activity_id', 'institution_id', 'source_id', 'experiment_id',\n",
       "       'frequency', 'realm', 'table_id', 'member_id', 'grid_label',\n",
       "       'variable_id', 'time_range', 'chunk_freq', 'platform', 'dimensions',\n",
       "       'cell_methods', 'standard_name', 'pass_qc', 'who_qc', 'path'],\n",
       "      dtype='object')"
      ]
     },
     "execution_count": 4,
     "metadata": {},
     "output_type": "execute_result"
    }
   ],
   "source": [
    "cat.df.columns"
   ]
  },
  {
   "cell_type": "markdown",
   "id": "9cf81298",
   "metadata": {},
   "source": [
    "As well as the unique options for that column"
   ]
  },
  {
   "cell_type": "code",
   "execution_count": 5,
   "id": "4d7a8087",
   "metadata": {},
   "outputs": [
    {
     "data": {
      "text/plain": [
       "{'atmos',\n",
       " 'atmos_4xdaily',\n",
       " 'atmos_4xdaily_avg',\n",
       " 'atmos_daily',\n",
       " 'land_daily',\n",
       " 'ocean'}"
      ]
     },
     "execution_count": 5,
     "metadata": {},
     "output_type": "execute_result"
    }
   ],
   "source": [
    "set(cat.df['realm'])"
   ]
  },
  {
   "cell_type": "markdown",
   "id": "f32b4437",
   "metadata": {},
   "source": [
    "To get the paths, we can access the data directly from the dataframe,"
   ]
  },
  {
   "cell_type": "code",
   "execution_count": 6,
   "id": "5a2c59fe",
   "metadata": {},
   "outputs": [
    {
     "data": {
      "text/plain": [
       "0     /collab1/data_untrusted/Aria.Radick/TFTEST/SPE...\n",
       "1     /collab1/data_untrusted/Aria.Radick/TFTEST/SPE...\n",
       "2     /collab1/data_untrusted/Aria.Radick/TFTEST/SPE...\n",
       "3     /collab1/data_untrusted/Aria.Radick/TFTEST/SPE...\n",
       "4     /collab1/data_untrusted/Aria.Radick/TFTEST/SPE...\n",
       "5     /collab1/data_untrusted/Aria.Radick/TFTEST/SPE...\n",
       "6     /collab1/data_untrusted/Aria.Radick/TFTEST/SPE...\n",
       "7     /collab1/data_untrusted/Aria.Radick/TFTEST/SPE...\n",
       "8     /collab1/data_untrusted/Aria.Radick/TFTEST/SPE...\n",
       "9     /collab1/data_untrusted/Aria.Radick/TFTEST/SPE...\n",
       "10    /collab1/data_untrusted/Aria.Radick/TFTEST/SPE...\n",
       "11    /collab1/data_untrusted/Aria.Radick/TFTEST/SPE...\n",
       "12    /collab1/data_untrusted/Aria.Radick/TFTEST/SPE...\n",
       "13    /collab1/data_untrusted/Aria.Radick/TFTEST/SPE...\n",
       "14    /collab1/data_untrusted/Aria.Radick/TFTEST/SPE...\n",
       "15    /collab1/data_untrusted/Aria.Radick/TFTEST/SPE...\n",
       "16    /collab1/data_untrusted/Aria.Radick/TFTEST/SPE...\n",
       "17    /collab1/data_untrusted/Aria.Radick/TFTEST/SPE...\n",
       "18    /collab1/data_untrusted/Aria.Radick/TFTEST/SPE...\n",
       "19    /collab1/data_untrusted/Aria.Radick/TFTEST/SPE...\n",
       "20    /collab1/data_untrusted/Aria.Radick/TFTEST/SPE...\n",
       "21    /collab1/data_untrusted/Aria.Radick/TFTEST/SPE...\n",
       "22    /collab1/data_untrusted/Aria.Radick/TFTEST/SPE...\n",
       "23    /collab1/data_untrusted/Aria.Radick/TFTEST/SPE...\n",
       "24    /collab1/data_untrusted/Aria.Radick/TFTEST/SPE...\n",
       "25    /collab1/data_untrusted/Aria.Radick/TFTEST/SPE...\n",
       "26    /collab1/data_untrusted/Aria.Radick/TFTEST/SPE...\n",
       "27    /collab1/data_untrusted/Aria.Radick/TFTEST/SPE...\n",
       "28    /collab1/data_untrusted/Aria.Radick/TFTEST/SPE...\n",
       "29    /collab1/data_untrusted/Aria.Radick/TFTEST/SPE...\n",
       "30    /collab1/data_untrusted/Aria.Radick/TFTEST/SPE...\n",
       "31    /collab1/data_untrusted/Aria.Radick/TFTEST/SPE...\n",
       "32    /collab1/data_untrusted/Aria.Radick/TFTEST/SPE...\n",
       "33    /collab1/data_untrusted/Aria.Radick/TFTEST/SPE...\n",
       "34    /collab1/data_untrusted/Aria.Radick/TFTEST/SPE...\n",
       "35    /collab1/data_untrusted/Aria.Radick/TFTEST/SPE...\n",
       "36    /collab1/data_untrusted/Aria.Radick/TFTEST/SPE...\n",
       "37    /collab1/data_untrusted/Aria.Radick/TFTEST/SPE...\n",
       "38    /collab1/data_untrusted/Aria.Radick/TFTEST/SPE...\n",
       "39    /collab1/data_untrusted/Aria.Radick/TFTEST/SPE...\n",
       "40    /collab1/data_untrusted/Aria.Radick/TFTEST/SPE...\n",
       "41    /collab1/data_untrusted/Aria.Radick/TFTEST/SPE...\n",
       "42    /collab1/data_untrusted/Aria.Radick/TFTEST/SPE...\n",
       "43    /collab1/data_untrusted/Aria.Radick/TFTEST/SPE...\n",
       "44    /collab1/data_untrusted/Aria.Radick/TFTEST/SPE...\n",
       "45    /collab1/data_untrusted/Aria.Radick/TFTEST/SPE...\n",
       "46    /collab1/data_untrusted/Aria.Radick/TFTEST/SPE...\n",
       "47    /collab1/data_untrusted/Aria.Radick/TFTEST/SPE...\n",
       "48    /collab1/data_untrusted/Aria.Radick/TFTEST/SPE...\n",
       "49    /collab1/data_untrusted/Aria.Radick/TFTEST/SPE...\n",
       "50    /collab1/data_untrusted/Aria.Radick/TFTEST/SPE...\n",
       "51    /collab1/data_untrusted/Aria.Radick/TFTEST/SPE...\n",
       "52    /collab1/data_untrusted/Aria.Radick/TFTEST/SPE...\n",
       "53    /collab1/data_untrusted/Aria.Radick/TFTEST/SPE...\n",
       "54    /collab1/data_untrusted/Aria.Radick/TFTEST/SPE...\n",
       "55    /collab1/data_untrusted/Aria.Radick/TFTEST/SPE...\n",
       "56    /collab1/data_untrusted/Aria.Radick/TFTEST/SPE...\n",
       "57    /collab1/data_untrusted/Aria.Radick/TFTEST/SPE...\n",
       "58    /collab1/data_untrusted/Aria.Radick/TFTEST/SPE...\n",
       "59    /collab1/data_untrusted/Aria.Radick/TFTEST/SPE...\n",
       "Name: path, dtype: object"
      ]
     },
     "execution_count": 6,
     "metadata": {},
     "output_type": "execute_result"
    }
   ],
   "source": [
    "subcat.df.path"
   ]
  },
  {
   "cell_type": "markdown",
   "id": "91b5321e",
   "metadata": {},
   "source": [
    "Then we can save to a file relevant for the batch Globus transfer. The text file used for Globus batch transfers is formatted as\n",
    "```\n",
    "</path/to/source_file_1.ext> </path/to/destination_file_1.ext>\n",
    "</path/to/source_file_2.ext> </path/to/destination_file_2.ext>\n",
    "...\n",
    "```"
   ]
  },
  {
   "cell_type": "code",
   "execution_count": null,
   "id": "ac00acdc",
   "metadata": {},
   "outputs": [],
   "source": [
    "x = []\n",
    "for y in subcat.df.path:\n",
    "    x.append(y.replace(\"/collab1/data_untrusted/Aria.Radick/TFTEST/\", \"\"))\n",
    "df2 = pd.DataFrame({\"source\" : x, \"dest\" : x})\n",
    "df2.to_csv(\"my_search.txt\", sep=' ', index=False, header=False)"
   ]
  },
  {
   "cell_type": "markdown",
   "id": "da1dbbc2",
   "metadata": {},
   "source": [
    "Which is used by running\n",
    "\n",
    "```\n",
    "$ SPEAR_FLP_RESTRICTED=\"20987ccd-15d0-4719-a60c-86ab17d6a393\"\n",
    "$ GLOBUS_DEST=\"$(globus endpoint local-id):/path/to/directory/\"\n",
    "$ cat /path/to/my_search.txt | globus transfer $SPEAR_FLP_RESTRICTED $GLOBUS_DEST --batch -\n",
    "```\n",
    "\n",
    "in a terminal on the destination machine. See [the readme on GitHub](https://github.com/NOAA-GFDL/spear-flp/tree/main?tab=readme-ov-file#recommended-accessing-the-data) for further elaboration.\n",
    "\n",
    "[Globus CLI](https://docs.globus.org/cli/) is necessary to run these commands. If you don't already have a Globus endpoint you wish to transfer to, [Globus Connect Personal](https://www.globus.org/globus-connect-personal) will allow you to set one up on your machine."
   ]
  }
 ],
 "metadata": {
  "kernelspec": {
   "display_name": "base",
   "language": "python",
   "name": "python3"
  },
  "language_info": {
   "codemirror_mode": {
    "name": "ipython",
    "version": 3
   },
   "file_extension": ".py",
   "mimetype": "text/x-python",
   "name": "python",
   "nbconvert_exporter": "python",
   "pygments_lexer": "ipython3",
   "version": "3.12.9"
  }
 },
 "nbformat": 4,
 "nbformat_minor": 5
}
