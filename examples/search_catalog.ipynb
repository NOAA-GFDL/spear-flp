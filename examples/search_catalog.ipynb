{
 "cells": [
  {
   "cell_type": "markdown",
   "id": "3396c44f",
   "metadata": {},
   "source": [
    "# Searching the Catalog\n",
    "\n",
    "This notebook will walk through quickly getting a list of where each file you're interested in is stored on the Globus endpoint\n",
    "\n",
    "The package [intake-esm](https://github.com/intake/intake-esm) is required to run this notebook."
   ]
  },
  {
   "cell_type": "code",
   "execution_count": 4,
   "id": "039f036e",
   "metadata": {},
   "outputs": [],
   "source": [
    "import intake\n",
    "import intake_esm\n",
    "cat_url = \"https://raw.githubusercontent.com/NOAA-GFDL/spear-flp/refs/heads/main/catalog_blue.json\""
   ]
  },
  {
   "cell_type": "markdown",
   "id": "f01c9c2a",
   "metadata": {},
   "source": [
    "The first step is to load the catalog:"
   ]
  },
  {
   "cell_type": "code",
   "execution_count": 5,
   "id": "c47a32b4",
   "metadata": {},
   "outputs": [],
   "source": [
    "cat = intake.open_esm_datastore(cat_url)"
   ]
  },
  {
   "cell_type": "markdown",
   "id": "b6e57cf5",
   "metadata": {},
   "source": [
    "Then we can run a search. Each argument is `<column> = \"<value>\"` or `<column> = [\"<value1>\", \"<value2>\"]`"
   ]
  },
  {
   "cell_type": "code",
   "execution_count": 13,
   "id": "ca73eff8",
   "metadata": {},
   "outputs": [],
   "source": [
    "subcat = cat.search(variable_id=\"snow\", experiment_id=\"SPEAR_c192_o1_Hist_AllForc_IC1921_K50\",\n",
    "        time_range=[\"19510101-19601231\", \"19410101-19501231\"])"
   ]
  },
  {
   "cell_type": "markdown",
   "id": "6b00c3d7",
   "metadata": {},
   "source": [
    "A full list of column names can be obtained,"
   ]
  },
  {
   "cell_type": "code",
   "execution_count": 19,
   "id": "3a6dfa72",
   "metadata": {},
   "outputs": [
    {
     "data": {
      "text/plain": [
       "Index(['activity_id', 'institution_id', 'source_id', 'experiment_id',\n",
       "       'frequency', 'realm', 'table_id', 'member_id', 'grid_label',\n",
       "       'variable_id', 'time_range', 'chunk_freq', 'platform', 'dimensions',\n",
       "       'cell_methods', 'standard_name', 'pass_qc', 'who_qc', 'path'],\n",
       "      dtype='object')"
      ]
     },
     "execution_count": 19,
     "metadata": {},
     "output_type": "execute_result"
    }
   ],
   "source": [
    "cat.df.columns"
   ]
  },
  {
   "cell_type": "markdown",
   "id": "9cf81298",
   "metadata": {},
   "source": [
    "As well as the unique options for that column"
   ]
  },
  {
   "cell_type": "code",
   "execution_count": 22,
   "id": "4d7a8087",
   "metadata": {},
   "outputs": [
    {
     "data": {
      "text/plain": [
       "{'atmos',\n",
       " 'atmos_4xdaily',\n",
       " 'atmos_4xdaily_avg',\n",
       " 'atmos_daily',\n",
       " 'land_daily',\n",
       " 'ocean'}"
      ]
     },
     "execution_count": 22,
     "metadata": {},
     "output_type": "execute_result"
    }
   ],
   "source": [
    "set(cat.df['realm'])"
   ]
  },
  {
   "cell_type": "markdown",
   "id": "f32b4437",
   "metadata": {},
   "source": [
    "To get the paths, we can access the data directly from the dataframe,"
   ]
  },
  {
   "cell_type": "code",
   "execution_count": 14,
   "id": "5a2c59fe",
   "metadata": {},
   "outputs": [
    {
     "data": {
      "text/plain": [
       "0     /data/2/GFDL-LARGE-ENSEMBLES/TFTEST/SPEAR_c192...\n",
       "1     /data/2/GFDL-LARGE-ENSEMBLES/TFTEST/SPEAR_c192...\n",
       "2     /data/2/GFDL-LARGE-ENSEMBLES/TFTEST/SPEAR_c192...\n",
       "3     /data/2/GFDL-LARGE-ENSEMBLES/TFTEST/SPEAR_c192...\n",
       "4     /data/2/GFDL-LARGE-ENSEMBLES/TFTEST/SPEAR_c192...\n",
       "5     /data/2/GFDL-LARGE-ENSEMBLES/TFTEST/SPEAR_c192...\n",
       "6     /data/2/GFDL-LARGE-ENSEMBLES/TFTEST/SPEAR_c192...\n",
       "7     /data/2/GFDL-LARGE-ENSEMBLES/TFTEST/SPEAR_c192...\n",
       "8     /data/2/GFDL-LARGE-ENSEMBLES/TFTEST/SPEAR_c192...\n",
       "9     /data/2/GFDL-LARGE-ENSEMBLES/TFTEST/SPEAR_c192...\n",
       "10    /data/2/GFDL-LARGE-ENSEMBLES/TFTEST/SPEAR_c192...\n",
       "11    /data/2/GFDL-LARGE-ENSEMBLES/TFTEST/SPEAR_c192...\n",
       "12    /data/2/GFDL-LARGE-ENSEMBLES/TFTEST/SPEAR_c192...\n",
       "13    /data/2/GFDL-LARGE-ENSEMBLES/TFTEST/SPEAR_c192...\n",
       "14    /data/2/GFDL-LARGE-ENSEMBLES/TFTEST/SPEAR_c192...\n",
       "15    /data/2/GFDL-LARGE-ENSEMBLES/TFTEST/SPEAR_c192...\n",
       "16    /data/2/GFDL-LARGE-ENSEMBLES/TFTEST/SPEAR_c192...\n",
       "17    /data/2/GFDL-LARGE-ENSEMBLES/TFTEST/SPEAR_c192...\n",
       "18    /data/2/GFDL-LARGE-ENSEMBLES/TFTEST/SPEAR_c192...\n",
       "19    /data/2/GFDL-LARGE-ENSEMBLES/TFTEST/SPEAR_c192...\n",
       "20    /data/2/GFDL-LARGE-ENSEMBLES/TFTEST/SPEAR_c192...\n",
       "21    /data/2/GFDL-LARGE-ENSEMBLES/TFTEST/SPEAR_c192...\n",
       "22    /data/2/GFDL-LARGE-ENSEMBLES/TFTEST/SPEAR_c192...\n",
       "23    /data/2/GFDL-LARGE-ENSEMBLES/TFTEST/SPEAR_c192...\n",
       "24    /data/2/GFDL-LARGE-ENSEMBLES/TFTEST/SPEAR_c192...\n",
       "25    /data/2/GFDL-LARGE-ENSEMBLES/TFTEST/SPEAR_c192...\n",
       "26    /data/2/GFDL-LARGE-ENSEMBLES/TFTEST/SPEAR_c192...\n",
       "27    /data/2/GFDL-LARGE-ENSEMBLES/TFTEST/SPEAR_c192...\n",
       "28    /data/2/GFDL-LARGE-ENSEMBLES/TFTEST/SPEAR_c192...\n",
       "29    /data/2/GFDL-LARGE-ENSEMBLES/TFTEST/SPEAR_c192...\n",
       "30    /data/2/GFDL-LARGE-ENSEMBLES/TFTEST/SPEAR_c192...\n",
       "31    /data/2/GFDL-LARGE-ENSEMBLES/TFTEST/SPEAR_c192...\n",
       "32    /data/2/GFDL-LARGE-ENSEMBLES/TFTEST/SPEAR_c192...\n",
       "33    /data/2/GFDL-LARGE-ENSEMBLES/TFTEST/SPEAR_c192...\n",
       "34    /data/2/GFDL-LARGE-ENSEMBLES/TFTEST/SPEAR_c192...\n",
       "35    /data/2/GFDL-LARGE-ENSEMBLES/TFTEST/SPEAR_c192...\n",
       "36    /data/2/GFDL-LARGE-ENSEMBLES/TFTEST/SPEAR_c192...\n",
       "37    /data/2/GFDL-LARGE-ENSEMBLES/TFTEST/SPEAR_c192...\n",
       "38    /data/2/GFDL-LARGE-ENSEMBLES/TFTEST/SPEAR_c192...\n",
       "39    /data/2/GFDL-LARGE-ENSEMBLES/TFTEST/SPEAR_c192...\n",
       "40    /data/2/GFDL-LARGE-ENSEMBLES/TFTEST/SPEAR_c192...\n",
       "41    /data/2/GFDL-LARGE-ENSEMBLES/TFTEST/SPEAR_c192...\n",
       "42    /data/2/GFDL-LARGE-ENSEMBLES/TFTEST/SPEAR_c192...\n",
       "43    /data/2/GFDL-LARGE-ENSEMBLES/TFTEST/SPEAR_c192...\n",
       "44    /data/2/GFDL-LARGE-ENSEMBLES/TFTEST/SPEAR_c192...\n",
       "45    /data/2/GFDL-LARGE-ENSEMBLES/TFTEST/SPEAR_c192...\n",
       "46    /data/2/GFDL-LARGE-ENSEMBLES/TFTEST/SPEAR_c192...\n",
       "47    /data/2/GFDL-LARGE-ENSEMBLES/TFTEST/SPEAR_c192...\n",
       "48    /data/2/GFDL-LARGE-ENSEMBLES/TFTEST/SPEAR_c192...\n",
       "49    /data/2/GFDL-LARGE-ENSEMBLES/TFTEST/SPEAR_c192...\n",
       "50    /data/2/GFDL-LARGE-ENSEMBLES/TFTEST/SPEAR_c192...\n",
       "51    /data/2/GFDL-LARGE-ENSEMBLES/TFTEST/SPEAR_c192...\n",
       "52    /data/2/GFDL-LARGE-ENSEMBLES/TFTEST/SPEAR_c192...\n",
       "53    /data/2/GFDL-LARGE-ENSEMBLES/TFTEST/SPEAR_c192...\n",
       "54    /data/2/GFDL-LARGE-ENSEMBLES/TFTEST/SPEAR_c192...\n",
       "55    /data/2/GFDL-LARGE-ENSEMBLES/TFTEST/SPEAR_c192...\n",
       "56    /data/2/GFDL-LARGE-ENSEMBLES/TFTEST/SPEAR_c192...\n",
       "57    /data/2/GFDL-LARGE-ENSEMBLES/TFTEST/SPEAR_c192...\n",
       "58    /data/2/GFDL-LARGE-ENSEMBLES/TFTEST/SPEAR_c192...\n",
       "59    /data/2/GFDL-LARGE-ENSEMBLES/TFTEST/SPEAR_c192...\n",
       "Name: path, dtype: object"
      ]
     },
     "execution_count": 14,
     "metadata": {},
     "output_type": "execute_result"
    }
   ],
   "source": [
    "subcat.df.path"
   ]
  },
  {
   "cell_type": "markdown",
   "id": "0c498ef4",
   "metadata": {},
   "source": [
    "and we can save this to a file with"
   ]
  },
  {
   "cell_type": "code",
   "execution_count": 18,
   "id": "52497b26",
   "metadata": {},
   "outputs": [],
   "source": [
    "subcat.df.path.to_csv(\"my_search.txt\", index=False, header=False)"
   ]
  }
 ],
 "metadata": {
  "kernelspec": {
   "display_name": "python_venv",
   "language": "python",
   "name": "python3"
  },
  "language_info": {
   "codemirror_mode": {
    "name": "ipython",
    "version": 3
   },
   "file_extension": ".py",
   "mimetype": "text/x-python",
   "name": "python",
   "nbconvert_exporter": "python",
   "pygments_lexer": "ipython3",
   "version": "3.13.3"
  }
 },
 "nbformat": 4,
 "nbformat_minor": 5
}
