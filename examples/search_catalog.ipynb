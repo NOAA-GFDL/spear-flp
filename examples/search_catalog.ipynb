{
 "cells": [
  {
   "cell_type": "markdown",
   "id": "3396c44f",
   "metadata": {},
   "source": [
    "# Searching the Catalog\n",
    "\n",
    "This notebook will walk through quickly getting a list of where each file you're interested in is stored on the Globus endpoint\n",
    "\n",
    "The packages [intake-esm](https://github.com/intake/intake-esm) and pandas are required to run this notebook."
   ]
  },
  {
   "cell_type": "code",
   "execution_count": 8,
   "id": "039f036e",
   "metadata": {},
   "outputs": [],
   "source": [
    "import intake\n",
    "import intake_esm\n",
    "import pandas as pd\n",
    "cat_url = \"https://raw.githubusercontent.com/NOAA-GFDL/spear-flp/refs/heads/main/catalog_blue.json\""
   ]
  },
  {
   "cell_type": "markdown",
   "id": "f01c9c2a",
   "metadata": {},
   "source": [
    "The first step is to load the catalog:"
   ]
  },
  {
   "cell_type": "code",
   "execution_count": 2,
   "id": "c47a32b4",
   "metadata": {},
   "outputs": [],
   "source": [
    "cat = intake.open_esm_datastore(cat_url)"
   ]
  },
  {
   "cell_type": "markdown",
   "id": "b6e57cf5",
   "metadata": {},
   "source": [
    "Then we can run a search. Each argument is `<column> = \"<value>\"` or `<column> = [\"<value1>\", \"<value2>\"]`"
   ]
  },
  {
   "cell_type": "code",
   "execution_count": 20,
   "id": "ca73eff8",
   "metadata": {},
   "outputs": [
    {
     "data": {
      "text/html": [
       "<p><strong>esm_catalog_ESM4 catalog with 30 dataset(s) from 30 asset(s)</strong>:</p> <div>\n",
       "<style scoped>\n",
       "    .dataframe tbody tr th:only-of-type {\n",
       "        vertical-align: middle;\n",
       "    }\n",
       "\n",
       "    .dataframe tbody tr th {\n",
       "        vertical-align: top;\n",
       "    }\n",
       "\n",
       "    .dataframe thead th {\n",
       "        text-align: right;\n",
       "    }\n",
       "</style>\n",
       "<table border=\"1\" class=\"dataframe\">\n",
       "  <thead>\n",
       "    <tr style=\"text-align: right;\">\n",
       "      <th></th>\n",
       "      <th>unique</th>\n",
       "    </tr>\n",
       "  </thead>\n",
       "  <tbody>\n",
       "    <tr>\n",
       "      <th>activity_id</th>\n",
       "      <td>0</td>\n",
       "    </tr>\n",
       "    <tr>\n",
       "      <th>institution_id</th>\n",
       "      <td>0</td>\n",
       "    </tr>\n",
       "    <tr>\n",
       "      <th>source_id</th>\n",
       "      <td>0</td>\n",
       "    </tr>\n",
       "    <tr>\n",
       "      <th>experiment_id</th>\n",
       "      <td>1</td>\n",
       "    </tr>\n",
       "    <tr>\n",
       "      <th>frequency</th>\n",
       "      <td>1</td>\n",
       "    </tr>\n",
       "    <tr>\n",
       "      <th>realm</th>\n",
       "      <td>1</td>\n",
       "    </tr>\n",
       "    <tr>\n",
       "      <th>table_id</th>\n",
       "      <td>0</td>\n",
       "    </tr>\n",
       "    <tr>\n",
       "      <th>member_id</th>\n",
       "      <td>30</td>\n",
       "    </tr>\n",
       "    <tr>\n",
       "      <th>grid_label</th>\n",
       "      <td>0</td>\n",
       "    </tr>\n",
       "    <tr>\n",
       "      <th>variable_id</th>\n",
       "      <td>1</td>\n",
       "    </tr>\n",
       "    <tr>\n",
       "      <th>time_range</th>\n",
       "      <td>1</td>\n",
       "    </tr>\n",
       "    <tr>\n",
       "      <th>chunk_freq</th>\n",
       "      <td>1</td>\n",
       "    </tr>\n",
       "    <tr>\n",
       "      <th>platform</th>\n",
       "      <td>0</td>\n",
       "    </tr>\n",
       "    <tr>\n",
       "      <th>dimensions</th>\n",
       "      <td>0</td>\n",
       "    </tr>\n",
       "    <tr>\n",
       "      <th>cell_methods</th>\n",
       "      <td>1</td>\n",
       "    </tr>\n",
       "    <tr>\n",
       "      <th>standard_name</th>\n",
       "      <td>1</td>\n",
       "    </tr>\n",
       "    <tr>\n",
       "      <th>pass_qc</th>\n",
       "      <td>1</td>\n",
       "    </tr>\n",
       "    <tr>\n",
       "      <th>who_qc</th>\n",
       "      <td>0</td>\n",
       "    </tr>\n",
       "    <tr>\n",
       "      <th>path</th>\n",
       "      <td>30</td>\n",
       "    </tr>\n",
       "    <tr>\n",
       "      <th>derived_variable_id</th>\n",
       "      <td>0</td>\n",
       "    </tr>\n",
       "  </tbody>\n",
       "</table>\n",
       "</div>"
      ],
      "text/plain": [
       "<IPython.core.display.HTML object>"
      ]
     },
     "metadata": {},
     "output_type": "display_data"
    }
   ],
   "source": [
    "subcat = cat.search(variable_id=\"WVP\", experiment_id=\"SPEAR_c192_o1_Hist_AllForc_IC1921_K50\",\n",
    "        time_range=\"192101-193012\")\n",
    "subcat"
   ]
  },
  {
   "cell_type": "markdown",
   "id": "6b00c3d7",
   "metadata": {},
   "source": [
    "A full list of column names can be obtained,"
   ]
  },
  {
   "cell_type": "code",
   "execution_count": 11,
   "id": "3a6dfa72",
   "metadata": {},
   "outputs": [
    {
     "data": {
      "text/plain": [
       "Index(['activity_id', 'institution_id', 'source_id', 'experiment_id',\n",
       "       'frequency', 'realm', 'table_id', 'member_id', 'grid_label',\n",
       "       'variable_id', 'time_range', 'chunk_freq', 'platform', 'dimensions',\n",
       "       'cell_methods', 'standard_name', 'pass_qc', 'who_qc', 'path'],\n",
       "      dtype='object')"
      ]
     },
     "execution_count": 11,
     "metadata": {},
     "output_type": "execute_result"
    }
   ],
   "source": [
    "cat.df.columns"
   ]
  },
  {
   "cell_type": "markdown",
   "id": "9cf81298",
   "metadata": {},
   "source": [
    "As well as the unique options for that column"
   ]
  },
  {
   "cell_type": "code",
   "execution_count": 12,
   "id": "4d7a8087",
   "metadata": {},
   "outputs": [
    {
     "data": {
      "text/plain": [
       "{'atmos',\n",
       " 'atmos_4xdaily',\n",
       " 'atmos_4xdaily_avg',\n",
       " 'atmos_daily',\n",
       " 'land_daily',\n",
       " 'ocean'}"
      ]
     },
     "execution_count": 12,
     "metadata": {},
     "output_type": "execute_result"
    }
   ],
   "source": [
    "set(cat.df['realm'])"
   ]
  },
  {
   "cell_type": "markdown",
   "id": "f32b4437",
   "metadata": {},
   "source": [
    "To get the paths, we can access the data directly from the dataframe,"
   ]
  },
  {
   "cell_type": "code",
   "execution_count": 21,
   "id": "5a2c59fe",
   "metadata": {},
   "outputs": [
    {
     "data": {
      "text/plain": [
       "0     /data/2/GFDL-LARGE-ENSEMBLES/TFTEST/SPEAR_c192...\n",
       "1     /data/2/GFDL-LARGE-ENSEMBLES/TFTEST/SPEAR_c192...\n",
       "2     /data/2/GFDL-LARGE-ENSEMBLES/TFTEST/SPEAR_c192...\n",
       "3     /data/2/GFDL-LARGE-ENSEMBLES/TFTEST/SPEAR_c192...\n",
       "4     /data/2/GFDL-LARGE-ENSEMBLES/TFTEST/SPEAR_c192...\n",
       "5     /data/2/GFDL-LARGE-ENSEMBLES/TFTEST/SPEAR_c192...\n",
       "6     /data/2/GFDL-LARGE-ENSEMBLES/TFTEST/SPEAR_c192...\n",
       "7     /data/2/GFDL-LARGE-ENSEMBLES/TFTEST/SPEAR_c192...\n",
       "8     /data/2/GFDL-LARGE-ENSEMBLES/TFTEST/SPEAR_c192...\n",
       "9     /data/2/GFDL-LARGE-ENSEMBLES/TFTEST/SPEAR_c192...\n",
       "10    /data/2/GFDL-LARGE-ENSEMBLES/TFTEST/SPEAR_c192...\n",
       "11    /data/2/GFDL-LARGE-ENSEMBLES/TFTEST/SPEAR_c192...\n",
       "12    /data/2/GFDL-LARGE-ENSEMBLES/TFTEST/SPEAR_c192...\n",
       "13    /data/2/GFDL-LARGE-ENSEMBLES/TFTEST/SPEAR_c192...\n",
       "14    /data/2/GFDL-LARGE-ENSEMBLES/TFTEST/SPEAR_c192...\n",
       "15    /data/2/GFDL-LARGE-ENSEMBLES/TFTEST/SPEAR_c192...\n",
       "16    /data/2/GFDL-LARGE-ENSEMBLES/TFTEST/SPEAR_c192...\n",
       "17    /data/2/GFDL-LARGE-ENSEMBLES/TFTEST/SPEAR_c192...\n",
       "18    /data/2/GFDL-LARGE-ENSEMBLES/TFTEST/SPEAR_c192...\n",
       "19    /data/2/GFDL-LARGE-ENSEMBLES/TFTEST/SPEAR_c192...\n",
       "20    /data/2/GFDL-LARGE-ENSEMBLES/TFTEST/SPEAR_c192...\n",
       "21    /data/2/GFDL-LARGE-ENSEMBLES/TFTEST/SPEAR_c192...\n",
       "22    /data/2/GFDL-LARGE-ENSEMBLES/TFTEST/SPEAR_c192...\n",
       "23    /data/2/GFDL-LARGE-ENSEMBLES/TFTEST/SPEAR_c192...\n",
       "24    /data/2/GFDL-LARGE-ENSEMBLES/TFTEST/SPEAR_c192...\n",
       "25    /data/2/GFDL-LARGE-ENSEMBLES/TFTEST/SPEAR_c192...\n",
       "26    /data/2/GFDL-LARGE-ENSEMBLES/TFTEST/SPEAR_c192...\n",
       "27    /data/2/GFDL-LARGE-ENSEMBLES/TFTEST/SPEAR_c192...\n",
       "28    /data/2/GFDL-LARGE-ENSEMBLES/TFTEST/SPEAR_c192...\n",
       "29    /data/2/GFDL-LARGE-ENSEMBLES/TFTEST/SPEAR_c192...\n",
       "Name: path, dtype: object"
      ]
     },
     "execution_count": 21,
     "metadata": {},
     "output_type": "execute_result"
    }
   ],
   "source": [
    "subcat.df.path"
   ]
  },
  {
   "cell_type": "markdown",
   "id": "91b5321e",
   "metadata": {},
   "source": [
    "Then we can save to a file relevant for the Globus transfer,"
   ]
  },
  {
   "cell_type": "code",
   "execution_count": 32,
   "id": "ac00acdc",
   "metadata": {},
   "outputs": [],
   "source": [
    "x = []\n",
    "for y in subcat.df.path:\n",
    "    x.append(y.replace(\"/data/2/GFDL-LARGE-ENSEMBLES/TFTEST/\", \"\"))\n",
    "df2 = pd.DataFrame({\"source\" : x, \"dest\" : x})\n",
    "df2.to_csv(\"my_search.txt\", sep=' ', index=False, header=False)"
   ]
  }
 ],
 "metadata": {
  "kernelspec": {
   "display_name": "python_venv",
   "language": "python",
   "name": "python3"
  },
  "language_info": {
   "codemirror_mode": {
    "name": "ipython",
    "version": 3
   },
   "file_extension": ".py",
   "mimetype": "text/x-python",
   "name": "python",
   "nbconvert_exporter": "python",
   "pygments_lexer": "ipython3",
   "version": "3.13.3"
  }
 },
 "nbformat": 4,
 "nbformat_minor": 5
}
