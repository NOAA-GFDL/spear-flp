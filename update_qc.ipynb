{
 "cells": [
  {
   "cell_type": "code",
   "execution_count": 1,
   "id": "5ce29620",
   "metadata": {},
   "outputs": [],
   "source": [
    "import pandas as pd"
   ]
  },
  {
   "cell_type": "code",
   "execution_count": 17,
   "id": "e6418478",
   "metadata": {},
   "outputs": [],
   "source": [
    "def update_qc(df, var_id, platform, qc_status):\n",
    "    df.loc[(df[\"variable_id\"] == var_id) & (df[\"platform\"] == platform), \"pass_qc\"] = qc_status"
   ]
  },
  {
   "cell_type": "code",
   "execution_count": 3,
   "id": "441b96e1",
   "metadata": {},
   "outputs": [],
   "source": [
    "df = pd.read_csv(\"spear_catalog_blue.csv\")"
   ]
  },
  {
   "cell_type": "code",
   "execution_count": 18,
   "id": "6da20cdb",
   "metadata": {},
   "outputs": [],
   "source": [
    "update_qc(df, \"slp\", \"SPEAR_c192_o1_Hist_AllForc_IC1921_K50_ens_01_03\", True)"
   ]
  },
  {
   "cell_type": "code",
   "execution_count": 19,
   "id": "36b118a5",
   "metadata": {},
   "outputs": [
    {
     "data": {
      "text/plain": [
       "18     True\n",
       "19     True\n",
       "20     True\n",
       "21     True\n",
       "22     True\n",
       "23     True\n",
       "24     True\n",
       "25     True\n",
       "26     True\n",
       "198    True\n",
       "199    True\n",
       "200    True\n",
       "201    True\n",
       "202    True\n",
       "203    True\n",
       "204    True\n",
       "205    True\n",
       "206    True\n",
       "378    True\n",
       "379    True\n",
       "380    True\n",
       "381    True\n",
       "382    True\n",
       "383    True\n",
       "384    True\n",
       "385    True\n",
       "386    True\n",
       "Name: pass_qc, dtype: bool"
      ]
     },
     "execution_count": 19,
     "metadata": {},
     "output_type": "execute_result"
    }
   ],
   "source": [
    "df.loc[(df[\"variable_id\"] == \"slp\") & (df[\"platform\"] == \"SPEAR_c192_o1_Hist_AllForc_IC1921_K50_ens_01_03\"), \"pass_qc\"]"
   ]
  }
 ],
 "metadata": {
  "kernelspec": {
   "display_name": "Python 3",
   "language": "python",
   "name": "python3"
  },
  "language_info": {
   "codemirror_mode": {
    "name": "ipython",
    "version": 3
   },
   "file_extension": ".py",
   "mimetype": "text/x-python",
   "name": "python",
   "nbconvert_exporter": "python",
   "pygments_lexer": "ipython3",
   "version": "3.13.3"
  }
 },
 "nbformat": 4,
 "nbformat_minor": 5
}
